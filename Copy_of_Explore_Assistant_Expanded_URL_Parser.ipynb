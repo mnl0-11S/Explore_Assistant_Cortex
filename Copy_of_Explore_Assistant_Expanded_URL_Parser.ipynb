{
  "nbformat": 4,
  "nbformat_minor": 0,
  "metadata": {
    "colab": {
      "provenance": [],
      "include_colab_link": true
    },
    "kernelspec": {
      "name": "python3",
      "display_name": "Python 3"
    },
    "language_info": {
      "name": "python"
    }
  },
  "cells": [
    {
      "cell_type": "markdown",
      "metadata": {
        "id": "view-in-github",
        "colab_type": "text"
      },
      "source": [
        "<a href=\"https://colab.research.google.com/github/mnl0-11S/Explore_Assistant_Cortex/blob/master/Copy_of_Explore_Assistant_Expanded_URL_Parser.ipynb\" target=\"_parent\"><img src=\"https://colab.research.google.com/assets/colab-badge.svg\" alt=\"Open In Colab\"/></a>"
      ]
    },
    {
      "cell_type": "code",
      "execution_count": 6,
      "metadata": {
        "id": "zCWs8pHjwps6",
        "colab": {
          "base_uri": "https://localhost:8080/"
        },
        "outputId": "76b45bb2-a57c-49c8-f0ca-4dfee8abc377"
      },
      "outputs": [
        {
          "output_type": "stream",
          "name": "stdout",
          "text": [
            "fields=vendor_performance.purchasing_group_text_eknam,vendor_performance.sum_net_price_in_target_currency_netpr&sorts=vendor_performance.sum_net_price_in_target_currency_netpr desc 0&limit=500&column_limit=50&vis={\"type\":\"looker_column\"}&dynamic_fields=[]\n"
          ]
        }
      ],
      "source": [
        "from urllib.parse import urlsplit, unquote, parse_qs\n",
        "import re\n",
        "\n",
        "expanded_url = \"https://camposoldev.cloud.looker.com/explore/cortex_sap_operational/vendor_performance?fields=vendor_performance.purchasing_group_text_eknam,vendor_performance.sum_net_price_in_target_currency_netpr&f[vendor_performance.purchasing_group_text_eknam]=&sorts=vendor_performance.sum_net_price_in_target_currency_netpr+desc+0&limit=500&column_limit=50&vis=%7B%22x_axis_gridlines%22%3Afalse%2C%22y_axis_gridlines%22%3Atrue%2C%22show_view_names%22%3Afalse%2C%22show_y_axis_labels%22%3Atrue%2C%22show_y_axis_ticks%22%3Atrue%2C%22y_axis_tick_density%22%3A%22default%22%2C%22y_axis_tick_density_custom%22%3A5%2C%22show_x_axis_label%22%3Atrue%2C%22show_x_axis_ticks%22%3Atrue%2C%22y_axis_scale_mode%22%3A%22linear%22%2C%22x_axis_reversed%22%3Afalse%2C%22y_axis_reversed%22%3Afalse%2C%22plot_size_by_field%22%3Afalse%2C%22trellis%22%3A%22%22%2C%22stacking%22%3A%22%22%2C%22limit_displayed_rows%22%3Afalse%2C%22legend_position%22%3A%22center%22%2C%22point_style%22%3A%22none%22%2C%22show_value_labels%22%3Afalse%2C%22label_density%22%3A25%2C%22x_axis_scale%22%3A%22auto%22%2C%22y_axis_combined%22%3Atrue%2C%22ordering%22%3A%22none%22%2C%22show_null_labels%22%3Afalse%2C%22show_totals_labels%22%3Afalse%2C%22show_silhouette%22%3Afalse%2C%22totals_color%22%3A%22%23808080%22%2C%22type%22%3A%22looker_column%22%2C%22show_null_points%22%3Atrue%2C%22defaults_version%22%3A1%2C%22series_types%22%3A%7B%7D%2C%22hidden_pivots%22%3A%7B%7D%7D&filter_config=%7B%22vendor_performance.purchasing_group_text_eknam%22%3A%5B%7B%22type%22%3A%22%3D%22%2C%22values%22%3A%5B%7B%22constant%22%3A%22%22%7D%2C%7B%7D%5D%2C%22id%22%3A14%7D%5D%7D&dynamic_fields=%5B%5D&origin=share-expanded\" # @param {type:\"string\"}\n",
        "\n",
        "def parse_url(query_data):\n",
        "    parsed_url = parse_qs(urlsplit(query_data).query)\n",
        "\n",
        "    # reconstruct url for training data\n",
        "    decoded_url_modifiedvisjson = ''\n",
        "    # return url parameters as a string\n",
        "    for query_param in parsed_url.items():\n",
        "        # parse fields\n",
        "        if query_param[0] == 'fields':\n",
        "            decoded_url_modifiedvisjson += f'fields={query_param[1][0]}'\n",
        "        # parse limit\n",
        "        if query_param[0] == 'limit':\n",
        "            decoded_url_modifiedvisjson += f'&limit={query_param[1][0]}'\n",
        "        # parse column limit\n",
        "        if query_param[0] == 'column_limit':\n",
        "            decoded_url_modifiedvisjson += f'&column_limit={query_param[1][0]}'\n",
        "        # parse filters\n",
        "        if query_param[0].startswith('f['):\n",
        "            decoded_url_modifiedvisjson += f'&{query_param[0]}={query_param[1][0]}'\n",
        "        # parse pivots\n",
        "        if query_param[0] == 'pivots':\n",
        "            decoded_url_modifiedvisjson += f'&pivots={query_param[1][0]}'\n",
        "        # parse fill fields\n",
        "        if query_param[0] == 'fill_fields':\n",
        "            decoded_url_modifiedvisjson += f'&fill_fields={query_param[1][0]}'\n",
        "        # parse dynamic fields ie. custom fields and table calcs\n",
        "        if query_param[0] == 'dynamic_fields':\n",
        "            decoded_url_modifiedvisjson += f'&dynamic_fields={query_param[1][0]}'\n",
        "        # parse sorts\n",
        "        if query_param[0] == 'sorts':\n",
        "            decoded_url_modifiedvisjson += f'&sorts={query_param[1][0]}'\n",
        "        # parse just vis type\n",
        "        if query_param[0] == 'vis':\n",
        "            vis_type = re.search(r'(\"type\":\\s*\"([^,}]+))', query_param[1][0])\n",
        "            if vis_type:\n",
        "                decoded_url_modifiedvisjson += '&vis={' + vis_type.group(1) + '}'\n",
        "            # if no vis type, don't add\n",
        "            else:\n",
        "                continue\n",
        "        # if none of the above skip as it's not needed\n",
        "        else:\n",
        "            continue\n",
        "\n",
        "    print(f\"\"\"{decoded_url_modifiedvisjson}\"\"\")\n",
        "\n",
        "parse_url(expanded_url)"
      ]
    }
  ]
}